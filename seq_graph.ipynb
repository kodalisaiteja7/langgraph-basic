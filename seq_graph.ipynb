{
 "cells": [
  {
   "cell_type": "code",
   "execution_count": 13,
   "id": "4295b63a",
   "metadata": {},
   "outputs": [],
   "source": [
    "from typing import Dict,TypedDict, List\n",
    "from langgraph.graph import StateGraph"
   ]
  },
  {
   "cell_type": "code",
   "execution_count": 14,
   "id": "81bd1d9a",
   "metadata": {},
   "outputs": [],
   "source": [
    "class AgentState(TypedDict):\n",
    "    values: List[int]\n",
    "    name: str\n",
    "    age: str\n",
    "    skills: List[str]\n",
    "    result: str\n"
   ]
  },
  {
   "cell_type": "code",
   "execution_count": 15,
   "id": "a0fb786f",
   "metadata": {},
   "outputs": [],
   "source": [
    "def first_node(state: AgentState) -> AgentState:\n",
    "    \"\"\"This is the first node in the sequence.\"\"\"\n",
    "    state['result'] = f\"Hello {state['name']}!!\"\n",
    "    print(state)\n",
    "    return state\n",
    "\n",
    "def second_node(state: AgentState) -> AgentState:\n",
    "    \"\"\"This is the second node in the sequence.\"\"\"\n",
    "    state['result'] += f\" You are {state['age']} years old.\"\n",
    "    print(state)\n",
    "    return state\n",
    "\n",
    "def third_node(state: AgentState) -> AgentState:\n",
    "    \"\"\"this is the third node in the sequence.\"\"\"\n",
    "    skills = ','.join(state['skills'])\n",
    "    state['result'] += f\" You have skills in {skills}.\"\n",
    "    print(state)\n",
    "    return state"
   ]
  },
  {
   "cell_type": "code",
   "execution_count": 16,
   "id": "4bbe8d72",
   "metadata": {},
   "outputs": [],
   "source": [
    "graph = StateGraph(AgentState)\n",
    "graph.add_node(\"first\", first_node)\n",
    "graph.add_node(\"second\", second_node)\n",
    "graph.add_node(\"third\", third_node)\n",
    "graph.add_edge(\"first\", \"second\")\n",
    "graph.add_edge(\"second\", \"third\")\n",
    "graph.set_entry_point(\"first\")\n",
    "graph.set_finish_point(\"third\")    \n",
    "app = graph.compile()"
   ]
  },
  {
   "cell_type": "code",
   "execution_count": 20,
   "id": "5fa84017",
   "metadata": {},
   "outputs": [
    {
     "name": "stdout",
     "output_type": "stream",
     "text": [
      "{'name': 'Teja', 'age': '22', 'skills': ['Python', 'Java', 'C++'], 'result': 'Hello Teja!!'}\n",
      "{'name': 'Teja', 'age': '22', 'skills': ['Python', 'Java', 'C++'], 'result': 'Hello Teja!! You are 22 years old.'}\n",
      "{'name': 'Teja', 'age': '22', 'skills': ['Python', 'Java', 'C++'], 'result': 'Hello Teja!! You are 22 years old. You have skills in Python,Java,C++.'}\n"
     ]
    }
   ],
   "source": [
    "res = app.invoke({\"name\": \"Teja\", \"age\": \"22\", \"skills\": [\"Python\", \"Java\", \"C++\"]})\n"
   ]
  },
  {
   "cell_type": "code",
   "execution_count": 21,
   "id": "053bfcd4",
   "metadata": {},
   "outputs": [
    {
     "data": {
      "text/plain": [
       "'Hello Teja!! You are 22 years old. You have skills in Python,Java,C++.'"
      ]
     },
     "execution_count": 21,
     "metadata": {},
     "output_type": "execute_result"
    }
   ],
   "source": [
    "res['result']"
   ]
  },
  {
   "cell_type": "code",
   "execution_count": null,
   "id": "b882f29a",
   "metadata": {},
   "outputs": [],
   "source": []
  }
 ],
 "metadata": {
  "kernelspec": {
   "display_name": ".venv",
   "language": "python",
   "name": "python3"
  },
  "language_info": {
   "codemirror_mode": {
    "name": "ipython",
    "version": 3
   },
   "file_extension": ".py",
   "mimetype": "text/x-python",
   "name": "python",
   "nbconvert_exporter": "python",
   "pygments_lexer": "ipython3",
   "version": "3.13.7"
  }
 },
 "nbformat": 4,
 "nbformat_minor": 5
}
